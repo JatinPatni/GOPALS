{
 "cells": [
  {
   "cell_type": "code",
   "execution_count": 6,
   "id": "daf740c7-37ad-42ee-8b7e-7591ad6971b8",
   "metadata": {},
   "outputs": [],
   "source": [
    "import pandas as pd\n",
    "import numpy as np\n",
    "import csv\n",
    "import os\n",
    "from tqdm import tqdm"
   ]
  },
  {
   "cell_type": "code",
   "execution_count": 1,
   "id": "0eb67b13-4f75-4a63-86a1-a297c6066d65",
   "metadata": {},
   "outputs": [],
   "source": [
    "sim_save_dir = r'../data/simulations/market_scenarios_historical'\n",
    "portfolio_run_out_dir = r'../data/simulations/portfolio_simulations_historical'\n"
   ]
  },
  {
   "cell_type": "code",
   "execution_count": 2,
   "id": "1d953ef1-d5b4-440e-a1ef-ffd6896c5201",
   "metadata": {},
   "outputs": [],
   "source": [
    "def gen_pf_wts(total_n, n, num_pf_wt_generations):\n",
    "    final_list = []\n",
    "    for i in range(num_pf_wt_generations):\n",
    "        selected_positions = np.random.choice(range(total_n), size = n, replace=False)\n",
    "        random_weights = np.random.rand(n)\n",
    "        random_weights /= np.sum(random_weights)\n",
    "        random_weights = np.round(random_weights,2)\n",
    "        portfolio_weights = np.zeros(total_n)\n",
    "        portfolio_weights[selected_positions] = random_weights\n",
    "        final_list.append(portfolio_weights)\n",
    "\n",
    "    return final_list"
   ]
  },
  {
   "cell_type": "code",
   "execution_count": 3,
   "id": "b0d7e900-6b60-440d-939c-73caea63c888",
   "metadata": {},
   "outputs": [],
   "source": [
    "def generate_portfolio_ret_vol(pf_wts, ret_np, vol_np, corr_np):\n",
    "    # Assuming every input is np.array\n",
    "    cov_matrix = np.outer(vol_np, vol_np) * corr_np\n",
    "    \n",
    "    portfolio_return = round(np.dot(pf_wts, ret_np),3)\n",
    "    portfolio_vol = round(np.sqrt(np.dot(pf_wts.T, np.dot(cov_matrix, pf_wts))),3)\n",
    "\n",
    "    return portfolio_return, portfolio_vol"
   ]
  },
  {
   "cell_type": "code",
   "execution_count": 141,
   "id": "eb4320ca-ef7b-4ffb-8822-95e1f1166002",
   "metadata": {},
   "outputs": [
    {
     "name": "stdout",
     "output_type": "stream",
     "text": [
      "pf_ret -0.024\n",
      "pf_vol 0.357\n"
     ]
    }
   ],
   "source": [
    "# test gen_portfolio_ret_vol\n",
    "pf_wts = np.array([0.3, 0.0, 0.0, 0.0, 0.0, 0.0, 0.0, 0.0, 0.0, 0.0, 0.0, 0.7, 0.0, 0.0, 0.0, 0.0, 0.0, 0.0, 0.0, 0.0, 0.0, 0.0, 0.0, 0.0, 0.0])\n",
    "t_year = '2020'\n",
    "t_ret = pd.read_csv(sim_save_dir+'//'+t_year+'_annual_ret.csv', header=None)\n",
    "t_ret.columns = ['mf_id','annual_return']\n",
    "t_vol = pd.read_csv(sim_save_dir+'//'+t_year+'_annual_vol.csv', header=None)\n",
    "t_vol.columns = ['mf_id','annual_vol']\n",
    "t_corr = pd.read_csv(sim_save_dir+'//'+t_year+'_annual_corr.csv', index_col=0)\n",
    "\n",
    "portfolio_return, portfolio_vol = generate_portfolio_ret_vol(pf_wts, np.array(t_ret['annual_return']), np.array(t_vol['annual_vol']), np.array(t_corr))\n",
    "print('pf_ret', portfolio_return) # Manually checked return\n",
    "print('pf_vol', portfolio_vol)\n"
   ]
  },
  {
   "cell_type": "code",
   "execution_count": 145,
   "id": "a21bdbc6-09e2-4ff2-8ed2-5f4b572e8beb",
   "metadata": {},
   "outputs": [],
   "source": [
    "t_corr.to_clipboard()"
   ]
  },
  {
   "cell_type": "code",
   "execution_count": null,
   "id": "4df4e2d6-319e-40c7-815f-6e4285510a17",
   "metadata": {},
   "outputs": [],
   "source": []
  },
  {
   "cell_type": "code",
   "execution_count": 4,
   "id": "c8629a28-17d7-4a30-8247-4c580e4a134b",
   "metadata": {},
   "outputs": [],
   "source": [
    "def write_results_to_csv(fname, year, pf_wts, portfolio_return, portfolio_vol):\n",
    "    with open(os.path.join(portfolio_run_out_dir, fname, fname+'_'+year+'.csv'), mode='a', newline='') as f:\n",
    "        writer = csv.writer(f)    \n",
    "        writer.writerow(np.append(np.append(pf_wts,portfolio_return), portfolio_vol))\n",
    "    return True"
   ]
  },
  {
   "cell_type": "code",
   "execution_count": 7,
   "id": "9083fea2-37b8-473f-9b06-bdd26f1fbc8b",
   "metadata": {},
   "outputs": [
    {
     "name": "stderr",
     "output_type": "stream",
     "text": [
      "100%|███████████████████████████████████████████████████████████████████████████████████| 8/8 [29:05<00:00, 218.13s/it]\n"
     ]
    }
   ],
   "source": [
    "total_n = 25\n",
    "k = 3\n",
    "num_pf_wt_generations = 1000000\n",
    "pf_wts_list = gen_pf_wts(total_n, k, num_pf_wt_generations)\n",
    "\n",
    "for year in tqdm(range(2017,2025)):\n",
    "    \n",
    "    year = str(year)\n",
    "    annual_ret = pd.read_csv(sim_save_dir+'//'+year+'_annual_ret.csv', header=None)\n",
    "    annual_ret.columns = ['mf_id','annual_return']\n",
    "    annual_vol = pd.read_csv(sim_save_dir+'//'+year+'_annual_vol.csv', header=None)\n",
    "    annual_vol.columns = ['mf_id','annual_vol']\n",
    "    annual_corr = pd.read_csv(sim_save_dir+'//'+year+'_annual_corr.csv', index_col=0)\n",
    "    ret_np = np.array(annual_ret['annual_return'])\n",
    "    vol_np = np.array(annual_vol['annual_vol'])\n",
    "    corr_np = np.array(annual_corr)\n",
    "    fname = 'k_'+str(k)\n",
    "\n",
    "    for pf_wts in pf_wts_list:\n",
    "        portfolio_return, portfolio_vol = generate_portfolio_ret_vol(pf_wts, ret_np, vol_np, corr_np)\n",
    "        write_results_to_csv(fname, year,  pf_wts, portfolio_return, portfolio_vol)"
   ]
  },
  {
   "cell_type": "code",
   "execution_count": null,
   "id": "2adeab9e-fa4d-4404-8484-a26c0847f2c1",
   "metadata": {},
   "outputs": [],
   "source": []
  }
 ],
 "metadata": {
  "kernelspec": {
   "display_name": "Python 3 (ipykernel)",
   "language": "python",
   "name": "python3"
  },
  "language_info": {
   "codemirror_mode": {
    "name": "ipython",
    "version": 3
   },
   "file_extension": ".py",
   "mimetype": "text/x-python",
   "name": "python",
   "nbconvert_exporter": "python",
   "pygments_lexer": "ipython3",
   "version": "3.12.4"
  }
 },
 "nbformat": 4,
 "nbformat_minor": 5
}
