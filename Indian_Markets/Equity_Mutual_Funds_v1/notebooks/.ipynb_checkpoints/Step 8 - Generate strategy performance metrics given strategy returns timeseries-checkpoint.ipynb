{
 "cells": [
  {
   "cell_type": "code",
   "execution_count": 11,
   "id": "f13d7ec4-4716-4655-9c13-c9c02ce74915",
   "metadata": {},
   "outputs": [],
   "source": [
    "# Generate yearly pnl time series given portfolio weights and historical timeseries of mutual funds\n",
    "import os\n",
    "import pandas as pd\n",
    "import numpy as np"
   ]
  },
  {
   "cell_type": "code",
   "execution_count": 12,
   "id": "4db13847-04f8-48e7-87d1-e0d654340d8d",
   "metadata": {},
   "outputs": [],
   "source": [
    "ret_ts_dir = r'../results/backtests/strategy_returns_timeseries'\n",
    "rfr = 0.02"
   ]
  },
  {
   "cell_type": "code",
   "execution_count": 13,
   "id": "415ec935-0855-4bab-ae61-0d62c4998ae2",
   "metadata": {},
   "outputs": [],
   "source": [
    "# Define performance metrics functions\n",
    "def calculate_sharpe_ratio(returns, risk_free_rate=0.02):\n",
    "    tret = calculate_annualized_return(returns)\n",
    "    tvol = calculate_annualized_volatility(returns)\n",
    "    excess_returns = tret - risk_free_rate\n",
    "    return excess_returns / tvol\n",
    "\n",
    "def calculate_sortino_ratio(returns, risk_free_rate=0.02):\n",
    "    downside_std = np.std(returns[returns < 0])*np.sqrt(252)\n",
    "    tret = calculate_annualized_return(returns)\n",
    "    excess_returns = tret - risk_free_rate\n",
    "    return excess_returns / downside_std if downside_std != 0 else np.nan\n",
    "\n",
    "def calculate_max_drawdown(returns):\n",
    "    cumulative = (1 + returns).cumprod()\n",
    "    cumulative_max = cumulative.cummax()\n",
    "    drawdown = (cumulative - cumulative_max) / cumulative_max\n",
    "    return drawdown.min()\n",
    "\n",
    "def calculate_annualized_return(returns):\n",
    "    cumulative_return = (1 + returns).prod() - 1\n",
    "    return cumulative_return\n",
    "\n",
    "def calculate_annualized_volatility(returns):\n",
    "    return np.std(returns) * np.sqrt(252)"
   ]
  },
  {
   "cell_type": "code",
   "execution_count": 14,
   "id": "583742f4-eb10-4877-aa25-11ae73902156",
   "metadata": {},
   "outputs": [],
   "source": [
    "# GOPALS Strategy 1 performance\n",
    "\n",
    "# Initialize list to store metrics for each year\n",
    "metrics_list = []\n",
    "all_files = os.listdir(ret_ts_dir)\n",
    "\n",
    "# filename = 'GOPALS_Strategy1_n_3_year_2020_pct_0.9.csv'\n",
    "for filename in all_files:\n",
    "    df = pd.read_csv(os.path.join(ret_ts_dir, filename), index_col='Date')\n",
    "    df.columns = ['Ret']\n",
    "    # Calculate metrics for the current year\n",
    "    sharpe_ratio = calculate_sharpe_ratio(df['Ret'])\n",
    "    sortino_ratio = calculate_sortino_ratio(df['Ret'])\n",
    "    max_drawdown = calculate_max_drawdown(df['Ret'])\n",
    "    annual_return = calculate_annualized_return(df['Ret'])\n",
    "    annual_volatility = calculate_annualized_volatility(df['Ret'])\n",
    "        \n",
    "    # Append metrics to list\n",
    "    metrics_list.append({'Strategy': filename,\n",
    "            'Sharpe Ratio': sharpe_ratio,\n",
    "            'Sortino Ratio': sortino_ratio,\n",
    "            'Max Drawdown': max_drawdown,\n",
    "            'Annual Return': annual_return,\n",
    "            'Annual Volatility': annual_volatility})\n",
    "# print(metrics_list)"
   ]
  },
  {
   "cell_type": "code",
   "execution_count": 15,
   "id": "5fd2a43e-86d9-4803-b0e2-8e7d9cc20fb9",
   "metadata": {},
   "outputs": [],
   "source": [
    "pd.DataFrame(metrics_list).to_csv(r'../results/backtests/final_results.csv', index=False)"
   ]
  }
 ],
 "metadata": {
  "kernelspec": {
   "display_name": "Python 3 (ipykernel)",
   "language": "python",
   "name": "python3"
  },
  "language_info": {
   "codemirror_mode": {
    "name": "ipython",
    "version": 3
   },
   "file_extension": ".py",
   "mimetype": "text/x-python",
   "name": "python",
   "nbconvert_exporter": "python",
   "pygments_lexer": "ipython3",
   "version": "3.12.4"
  }
 },
 "nbformat": 4,
 "nbformat_minor": 5
}
