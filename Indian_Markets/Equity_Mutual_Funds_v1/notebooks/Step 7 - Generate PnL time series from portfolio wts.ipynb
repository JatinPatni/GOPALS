{
 "cells": [
  {
   "cell_type": "markdown",
   "id": "59a0768e-4ec5-4aee-9fe1-58f449ccd760",
   "metadata": {},
   "source": [
    "### Compile all results together, generate a time series of returns given portfolio weights from various strategies such as GOPALS, MVO, equal benchmarks etc."
   ]
  },
  {
   "cell_type": "code",
   "execution_count": 2,
   "id": "b6369af1-4b6d-4e8b-ace9-817b18485383",
   "metadata": {},
   "outputs": [],
   "source": [
    "# Generate yearly pnl time series given portfolio weights and historical timeseries of mutual funds\n",
    "import os\n",
    "import pandas as pd\n",
    "import numpy as np\n"
   ]
  },
  {
   "cell_type": "code",
   "execution_count": 5,
   "id": "1b31ce09-d002-4a9a-83ba-d453ed5602a3",
   "metadata": {},
   "outputs": [],
   "source": [
    "pf_wt_dir = r'../results/backtests/portfolio_weights'\n",
    "hist_ts_file = r'../data/mutual_funds_data/selected_mutualfunds_nav_timeseries_data.csv'\n",
    "ret_ts_dir = r'../results/backtests/strategy_returns_timeseries'\n",
    "\n",
    "\n",
    "mkt_df = pd.read_csv(hist_ts_file, index_col='Date', parse_dates=['Date'])"
   ]
  },
  {
   "cell_type": "code",
   "execution_count": 6,
   "id": "3feb2c54-fb55-405f-a40c-b74c4c18232e",
   "metadata": {},
   "outputs": [],
   "source": [
    "strategy_name = 'GOPALS_Strategy2.3'\n",
    "n = 3\n",
    "pct_= 0.95\n",
    "# year = 2023 # later do this for all four years\n",
    "\n",
    "for year in range(2020, 2024):\n",
    "    pf_wt = pd.read_csv(os.path.join(pf_wt_dir, strategy_name, 'GOPALS_n_'+str(n)+'_year_'+str(year)+'_pct_'+str(pct_)+'.csv'), header=None)\n",
    "    pf_wt = pf_wt/pf_wt.values.sum()\n",
    "    # Load mkt data\n",
    "    filtered_data = mkt_df[mkt_df.index.year.isin([year])]\n",
    "    filtered_data = filtered_data[(filtered_data != 0.0).all(axis=1)]\n",
    "    filtered_data_ret = filtered_data.pct_change().dropna()\n",
    "    ret_ts = filtered_data_ret.dot(pf_wt.values)\n",
    "    ret_ts.to_csv(os.path.join(ret_ts_dir, strategy_name+'_n_'+str(n)+'_year_'+str(year)+'_pct_'+str(pct_)+'.csv'))"
   ]
  },
  {
   "cell_type": "code",
   "execution_count": 86,
   "id": "96534dc3-60d0-46b0-a466-dc3d959042c5",
   "metadata": {},
   "outputs": [],
   "source": [
    "# MVO\n",
    "strategy_name = 'MVO'\n",
    "for year in range(2020, 2024):\n",
    "    pf_wt = pd.read_csv(os.path.join(pf_wt_dir, strategy_name, 'MVO_year_'+str(year)+'.csv'), header=None)\n",
    "    pf_wt = pf_wt/pf_wt.values.sum()\n",
    "    # Load mkt data\n",
    "    filtered_data = mkt_df[mkt_df.index.year.isin([year])]\n",
    "    filtered_data = filtered_data[(filtered_data != 0.0).all(axis=1)]\n",
    "    filtered_data_ret = filtered_data.pct_change().dropna()\n",
    "    ret_ts = filtered_data_ret.dot(pf_wt.values)\n",
    "    ret_ts.to_csv(os.path.join(ret_ts_dir, strategy_name+'_year_'+str(year)+'.csv'))"
   ]
  },
  {
   "cell_type": "code",
   "execution_count": 101,
   "id": "ebf19b62-1aa6-43d7-990c-5744d564e3ca",
   "metadata": {},
   "outputs": [],
   "source": [
    "# MVO\n",
    "strategy_name = 'MVO_new'\n",
    "for year in range(2020, 2024):\n",
    "    pf_wt = pd.read_csv(os.path.join(pf_wt_dir, strategy_name, 'MVO_new_year_'+str(year)+'.csv'), header=None)\n",
    "    pf_wt = pf_wt/pf_wt.values.sum()\n",
    "    # Load mkt data\n",
    "    filtered_data = mkt_df[mkt_df.index.year.isin([year])]\n",
    "    filtered_data = filtered_data[(filtered_data != 0.0).all(axis=1)]\n",
    "    filtered_data_ret = filtered_data.pct_change().dropna()\n",
    "    ret_ts = filtered_data_ret.dot(pf_wt.values)\n",
    "    ret_ts.to_csv(os.path.join(ret_ts_dir, strategy_name+'_year_'+str(year)+'.csv'))"
   ]
  },
  {
   "cell_type": "code",
   "execution_count": 95,
   "id": "abdf8063-663b-4912-9385-9000429782ee",
   "metadata": {},
   "outputs": [
    {
     "name": "stderr",
     "output_type": "stream",
     "text": [
      "C:\\Users\\abc\\AppData\\Local\\Temp\\ipykernel_14396\\444943777.py:9: FutureWarning: The default fill_method='pad' in DataFrame.pct_change is deprecated and will be removed in a future version. Either fill in any non-leading NA values prior to calling pct_change or specify 'fill_method=None' to not fill NA values.\n",
      "  filtered_data_ret = filtered_data.pct_change().dropna()\n",
      "C:\\Users\\abc\\AppData\\Local\\Temp\\ipykernel_14396\\444943777.py:9: FutureWarning: The default fill_method='pad' in DataFrame.pct_change is deprecated and will be removed in a future version. Either fill in any non-leading NA values prior to calling pct_change or specify 'fill_method=None' to not fill NA values.\n",
      "  filtered_data_ret = filtered_data.pct_change().dropna()\n"
     ]
    }
   ],
   "source": [
    "# Generate for benchmarks\n",
    "strategy_name = 'mkt_benchmark'\n",
    "mkt_df1 = pd.read_csv(os.path.join(r'../data/market_benchmarks_historical_data', 'benchmark_data.csv'), index_col='Date',parse_dates=['Date'])\n",
    "\n",
    "for year in range(2020, 2024):\n",
    "    \n",
    "    filtered_data = mkt_df1[mkt_df1.index.year.isin([year])]\n",
    "    filtered_data = filtered_data[(filtered_data != 0.0).all(axis=1)]\n",
    "    filtered_data_ret = filtered_data.pct_change().dropna()\n",
    "    ret_ts = filtered_data_ret.copy()\n",
    "    ret_ts.to_csv(os.path.join(ret_ts_dir, strategy_name+'_year_'+str(year)+'.csv'))\n"
   ]
  },
  {
   "cell_type": "code",
   "execution_count": 100,
   "id": "fb7cde45-9e77-4bba-bf6b-d05ccb4b6547",
   "metadata": {},
   "outputs": [],
   "source": [
    "# Generate for Equally Weighted Portfolio\n",
    "\n",
    "strategy_name = 'Equal_wtd'\n",
    "for year in range(2020, 2024):\n",
    "    pf_wt = np.ones(25)/25\n",
    "    \n",
    "    # Load mkt data\n",
    "    filtered_data = mkt_df[mkt_df.index.year.isin([year])]\n",
    "    filtered_data = filtered_data[(filtered_data != 0.0).all(axis=1)]\n",
    "    filtered_data_ret = filtered_data.pct_change().dropna()\n",
    "    ret_ts = filtered_data_ret.dot(pf_wt)\n",
    "    ret_ts.to_csv(os.path.join(ret_ts_dir, strategy_name+'_year_'+str(year)+'.csv'))"
   ]
  }
 ],
 "metadata": {
  "kernelspec": {
   "display_name": "Python 3 (ipykernel)",
   "language": "python",
   "name": "python3"
  },
  "language_info": {
   "codemirror_mode": {
    "name": "ipython",
    "version": 3
   },
   "file_extension": ".py",
   "mimetype": "text/x-python",
   "name": "python",
   "nbconvert_exporter": "python",
   "pygments_lexer": "ipython3",
   "version": "3.12.4"
  }
 },
 "nbformat": 4,
 "nbformat_minor": 5
}
